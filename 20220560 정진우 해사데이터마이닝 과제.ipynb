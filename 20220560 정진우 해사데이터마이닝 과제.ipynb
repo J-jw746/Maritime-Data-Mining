{
  "nbformat": 4,
  "nbformat_minor": 0,
  "metadata": {
    "colab": {
      "provenance": []
    },
    "kernelspec": {
      "name": "python3",
      "display_name": "Python 3"
    },
    "language_info": {
      "name": "python"
    }
  },
  "cells": [
    {
      "cell_type": "code",
      "execution_count": 1,
      "metadata": {
        "colab": {
          "base_uri": "https://localhost:8080/"
        },
        "id": "C-NDHCiI2Zfv",
        "outputId": "129af939-721c-4bfe-eccc-6a8c5b10f4e6"
      },
      "outputs": [
        {
          "output_type": "stream",
          "name": "stdout",
          "text": [
            "<class 'pandas.core.frame.DataFrame'>\n",
            "RangeIndex: 3 entries, 0 to 2\n",
            "Data columns (total 4 columns):\n",
            " #   Column  Non-Null Count  Dtype  \n",
            "---  ------  --------------  -----  \n",
            " 0   title   3 non-null      object \n",
            " 1   author  3 non-null      object \n",
            " 2   price   3 non-null      float64\n",
            " 3   genre   3 non-null      object \n",
            "dtypes: float64(1), object(3)\n",
            "memory usage: 228.0+ bytes\n",
            "None\n",
            "                   title          author  price    genre\n",
            "0    Pride and Prejudice     Jane Austen  19.99  romance\n",
            "1  To Kill a Mockingbird      Harper Lee  14.99  fiction\n",
            "2  The Lord of the Rings  J.R.R. Tolkien  34.99  fantasy\n"
          ]
        },
        {
          "output_type": "stream",
          "name": "stderr",
          "text": [
            "<ipython-input-1-90858934c1f4>:30: FutureWarning: The behavior of DataFrame concatenation with empty or all-NA entries is deprecated. In a future version, this will no longer exclude empty or all-NA columns when determining the result dtypes. To retain the old behavior, exclude the relevant entries before the concat operation.\n",
            "  df = pd.concat([df, new_df], ignore_index=True)\n"
          ]
        }
      ],
      "source": [
        "import pandas as pd\n",
        "import xml.etree.ElementTree as ET\n",
        "\n",
        "# XML 파일 경로\n",
        "xml_file_path = \"book.xml\"\n",
        "\n",
        "# XML 파일 읽기\n",
        "tree = ET.parse(xml_file_path)\n",
        "\n",
        "# 루투 요소 가져오기\n",
        "root = tree.getroot()\n",
        "\n",
        "# 특정 요소 목록 가져오기\n",
        "elements = root.findall('book')\n",
        "\n",
        "# DataFrame 생성\n",
        "df = pd.DataFrame(columns=['title', 'author', 'price', 'genre'])\n",
        "\n",
        "# 각 요소를 Dataframe에 추가\n",
        "for element in elements:\n",
        "  row = {\n",
        "      'title' : element.find('title').text,\n",
        "      'author': element.find('author').text,\n",
        "      'price' : float(element.find('price').text),\n",
        "      'genre' :element.find('genre').text,\n",
        "  }\n",
        "\n",
        "  # Corrected indentation: This line should be indented at the same level as the 'row' assignment\n",
        "  new_df = pd.DataFrame([row], columns=df.columns)\n",
        "  df = pd.concat([df, new_df], ignore_index=True)\n",
        "\n",
        "#Dataframe 정보 출력\n",
        "print(df.info())\n",
        "\n",
        "# DataFrame 확인\n",
        "print(df.head())"
      ]
    },
    {
      "cell_type": "code",
      "source": [
        "import pandas as pd\n",
        "import json\n",
        "\n",
        "# JSON 파일 읽기\n",
        "\n",
        "json_file_path = \"/data/jsonData/productjson\"\n",
        "\n",
        "with open('product.json', 'r', encoding='utf-8') as file:\n",
        "    data = json.load(file)\n",
        "\n",
        "# DataFrame으로 변환\n",
        "df = pd.DataFrame(data)\n",
        "\n",
        "# DataFrame 확인\n",
        "print(df.info())\n",
        "\n",
        "print(df.head())"
      ],
      "metadata": {
        "colab": {
          "base_uri": "https://localhost:8080/"
        },
        "id": "ioeehMfe4I8B",
        "outputId": "db4e0caf-4f45-4e24-92e9-f4aa314e499c"
      },
      "execution_count": 2,
      "outputs": [
        {
          "output_type": "stream",
          "name": "stdout",
          "text": [
            "<class 'pandas.core.frame.DataFrame'>\n",
            "RangeIndex: 3 entries, 0 to 2\n",
            "Data columns (total 5 columns):\n",
            " #   Column    Non-Null Count  Dtype \n",
            "---  ------    --------------  ----- \n",
            " 0   id        3 non-null      int64 \n",
            " 1   name      3 non-null      object\n",
            " 2   price     3 non-null      int64 \n",
            " 3   brand     3 non-null      object\n",
            " 4   category  3 non-null      object\n",
            "dtypes: int64(2), object(3)\n",
            "memory usage: 252.0+ bytes\n",
            "None\n",
            "    id               name    price    brand category\n",
            "0  101  iPhone 13 Pro Max  1299000    Apple     스마트폰\n",
            "1  102   Galaxy S22 Ultra  1199000  Samsung     스마트폰\n",
            "2  103         LG Gram 17  1999000       LG      노트북\n"
          ]
        }
      ]
    }
  ]
}